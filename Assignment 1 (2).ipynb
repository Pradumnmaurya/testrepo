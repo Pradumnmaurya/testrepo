{
 "cells": [
  {
   "cell_type": "markdown",
   "id": "28b32ccd-8363-468b-ad60-bbaedbf48448",
   "metadata": {},
   "source": [
    "# Q1. Create one variable containing following type of data:\n",
    "# (i) string\n",
    "# (ii) list\n",
    "# (iii) float\n",
    "# (iv) tuple\n",
    "\n",
    "# Ans - (i)string\n",
    "\n",
    "# Q2. Given are some following variables containing data:\n",
    "# (i) var1 = ‘ ‘\n",
    "# (ii) var2 = ‘[ DS , ML , Python]’\n",
    "# (iii) var3 = [ ‘DS’ , ’ML’ , ‘Python’ ]\n",
    "# (iv) var4 = 1.\n",
    "# What will be the data type of the above given variable.\n",
    "\n",
    "# Ans - (i) String (ii)String (iii) List (iv) Float\n",
    "\n",
    "\n",
    "# Q3. Explain the use of the following operators using an example:\n",
    "# (i) /\n",
    "# (ii) %\n",
    "# (iii) //\n",
    "# (iv) **\n",
    "\n",
    "# Ans : (i) / It is Division Operator. It Gives the Answer in Decimal Values.\n",
    "# (ii) % It is Modules Operator. It is used for Seeing Reminder in Devision.\n",
    "# (iii) // It is Floor Division. It gives the only inger values in Division.\n",
    "# (iv) ** It is Exponentiation. It is used for Square any Values like 2**2=4."
   ]
  },
  {
   "cell_type": "code",
   "execution_count": 19,
   "id": "69d449d0-8f17-4820-b18d-83acaa274e29",
   "metadata": {},
   "outputs": [
    {
     "name": "stdout",
     "output_type": "stream",
     "text": [
      "<class 'int'>\n",
      "<class 'float'>\n",
      "<class 'bool'>\n",
      "<class 'str'>\n",
      "<class 'tuple'>\n",
      "<class 'list'>\n",
      "<class 'complex'>\n",
      "<class 'dict'>\n",
      "<class 'range'>\n",
      "<class 'bytes'>\n",
      "<class 'set'>\n"
     ]
    }
   ],
   "source": [
    "# Q4. Create a list of length 10 of your choice containing multiple types of data. Using for loop print the \n",
    "# element and its data type.\n",
    "a=[2,2.2,True,'abdc',('abd','ffj','lfkg','gkg'),[45,55,8,89,45],5+6j,{'a':5,'v':6},range(0,8),bytes(5),{2,5,6,5}]\n",
    "for i in a:\n",
    "    print(type(i))"
   ]
  },
  {
   "cell_type": "code",
   "execution_count": 10,
   "id": "32c913d3-0fa4-433f-818d-3acb8aef7626",
   "metadata": {},
   "outputs": [
    {
     "name": "stdin",
     "output_type": "stream",
     "text": [
      "Enter the dividend (A):  4\n",
      "Enter the divisor (B):  2\n"
     ]
    },
    {
     "name": "stdout",
     "output_type": "stream",
     "text": [
      "1 can be divided by 2, 2 times.\n"
     ]
    }
   ],
   "source": [
    "# Q5. Using a while loop, verify if the number A is purely divisible by number B and if so then how many \n",
    "# times it can be divisible\n",
    "A = int(input(\"Enter the dividend (A): \"))\n",
    "B = int(input(\"Enter the divisor (B): \"))\n",
    "\n",
    "count = 0\n",
    "\n",
    "while A % B == 0:\n",
    "    A = A // B  \n",
    "    count += 1\n",
    "\n",
    "if count > 0:\n",
    "    print(f\"{A} can be divided by {B}, {count} times.\")\n",
    "else:\n",
    "    print(f\"{A} is not divisible by {B}.\")\n",
    "\n",
    "    "
   ]
  },
  {
   "cell_type": "code",
   "execution_count": 13,
   "id": "ee00748b-f83a-463b-9835-88ec403cb3d9",
   "metadata": {},
   "outputs": [
    {
     "name": "stdout",
     "output_type": "stream",
     "text": [
      "1 is not Divisible by 3\n",
      "2 is not Divisible by 3\n",
      "3 is Divisible by 3\n",
      "4 is not Divisible by 3\n",
      "5 is not Divisible by 3\n",
      "6 is Divisible by 3\n",
      "7 is not Divisible by 3\n",
      "8 is not Divisible by 3\n",
      "9 is Divisible by 3\n",
      "10 is not Divisible by 3\n",
      "11 is not Divisible by 3\n",
      "12 is Divisible by 3\n",
      "13 is not Divisible by 3\n",
      "14 is not Divisible by 3\n",
      "15 is Divisible by 3\n",
      "16 is not Divisible by 3\n",
      "17 is not Divisible by 3\n",
      "18 is Divisible by 3\n",
      "19 is not Divisible by 3\n",
      "20 is not Divisible by 3\n",
      "21 is Divisible by 3\n",
      "22 is not Divisible by 3\n",
      "23 is not Divisible by 3\n",
      "24 is Divisible by 3\n",
      "25 is not Divisible by 3\n"
     ]
    }
   ],
   "source": [
    "# Q6. Create a list containing 25 int type data. Using for loop and if-else condition print if the element is \n",
    "# divisible by 3 or not.\n",
    "\n",
    "A=[1,2,3,4,5,6,7,8,9,10,11,12,13,14,15,16,17,18,19,20,21,22,23,24,25]\n",
    "\n",
    "for i in A:\n",
    "    if i%3==0:\n",
    "        print(f\"{i} is Divisible by 3\")\n",
    "    else:\n",
    "        print(f\"{i} is not Divisible by 3\")"
   ]
  },
  {
   "cell_type": "markdown",
   "id": "00f98ffe-4785-41aa-b17d-c3d5a09ad174",
   "metadata": {},
   "source": [
    "# Q7. What do you understand about mutable and immutable data types? Give examples for both showing this property.\n",
    "\n",
    "## Mutable data type - Mutable Data type value can be changed.  -->\n",
    "## Ex. List, Set, Dictionary\n",
    "\n",
    "## Imutable data type - Immutable Data type Value can not be Changed.\n",
    "## Ex. string, tuple."
   ]
  },
  {
   "cell_type": "code",
   "execution_count": null,
   "id": "fdf73623-8844-4c52-a94a-003c9ff98926",
   "metadata": {},
   "outputs": [],
   "source": []
  },
  {
   "cell_type": "code",
   "execution_count": null,
   "id": "28493c59-b7b1-4178-8176-eb4936683244",
   "metadata": {},
   "outputs": [],
   "source": []
  }
 ],
 "metadata": {
  "kernelspec": {
   "display_name": "Python 3 (ipykernel)",
   "language": "python",
   "name": "python3"
  },
  "language_info": {
   "codemirror_mode": {
    "name": "ipython",
    "version": 3
   },
   "file_extension": ".py",
   "mimetype": "text/x-python",
   "name": "python",
   "nbconvert_exporter": "python",
   "pygments_lexer": "ipython3",
   "version": "3.11.4"
  }
 },
 "nbformat": 4,
 "nbformat_minor": 5
}
